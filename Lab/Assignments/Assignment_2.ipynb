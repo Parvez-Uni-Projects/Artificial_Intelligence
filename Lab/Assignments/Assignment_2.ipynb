{
  "cells": [
    {
      "cell_type": "code",
      "execution_count": null,
      "metadata": {
        "id": "JjfsI4v5dpbL"
      },
      "outputs": [],
      "source": [
        "import numpy as np\n"
      ]
    },
    {
      "cell_type": "code",
      "execution_count": null,
      "metadata": {
        "id": "r5iEm42IgMyu"
      },
      "outputs": [],
      "source": [
        "# Function to display the game board\n",
        "def display_board(board):\n",
        "    for row in board:\n",
        "        print(\"|\".join(row))\n",
        "    print(\"+-+-+-+-+-+-+\")\n",
        "    print(\" 1 2 3 4 5 6 7\")\n",
        "\n"
      ]
    },
    {
      "cell_type": "code",
      "execution_count": null,
      "metadata": {
        "id": "oEM-OItygQyS"
      },
      "outputs": [],
      "source": [
        "# Function to check if a player has won\n",
        "def check_win(board, player):\n",
        "    # Check for horizontal win\n",
        "    for row in range(6):\n",
        "        for col in range(4):\n",
        "            if board[row][col] == board[row][col+1] == board[row][col+2] == board[row][col+3] == player:\n",
        "                return True\n",
        "\n",
        "    # Check for vertical win\n",
        "    for row in range(3):\n",
        "        for col in range(7):\n",
        "            if board[row][col] == board[row+1][col] == board[row+2][col] == board[row+3][col] == player:\n",
        "                return True\n",
        "\n",
        "    # Check for diagonal win (positive slope)\n",
        "    for row in range(3):\n",
        "        for col in range(4):\n",
        "            if board[row][col] == board[row+1][col+1] == board[row+2][col+2] == board[row+3][col+3] == player:\n",
        "                return True\n",
        "\n",
        "    # Check for diagonal win (negative slope)\n",
        "    for row in range(3):\n",
        "        for col in range(3, 7):\n",
        "            if board[row][col] == board[row+1][col-1] == board[row+2][col-2] == board[row+3][col-3] == player:\n",
        "                return True\n",
        "\n",
        "    return False\n",
        "\n"
      ]
    },
    {
      "cell_type": "code",
      "execution_count": null,
      "metadata": {
        "id": "JH7BpMDQgaQw"
      },
      "outputs": [],
      "source": [
        "# Function to check if the board is full\n",
        "def is_board_full(board):\n",
        "    return all(board[row][col] != \" \" for row in range(6) for col in range(7))"
      ]
    },
    {
      "cell_type": "code",
      "execution_count": null,
      "metadata": {
        "id": "FN60rriOgc0Z"
      },
      "outputs": [],
      "source": [
        "# Function to evaluate the board state for the Minimax algorithm\n",
        "def evaluate_board(board):\n",
        "    if check_win(board, \"O\"):\n",
        "        return 1\n",
        "    elif check_win(board, \"X\"):\n",
        "        return -1\n",
        "    else:\n",
        "        return 0\n"
      ]
    },
    {
      "cell_type": "code",
      "execution_count": null,
      "metadata": {
        "id": "zhy7LJT1ggjE"
      },
      "outputs": [],
      "source": [
        "# Minimax Algorithm with depth-limiting\n",
        "def minimax(board, depth, is_maximizing_player):\n",
        "    if depth == 0 or check_win(board, \"O\") or check_win(board, \"X\") or is_board_full(board):\n",
        "        return evaluate_board(board)\n",
        "\n",
        "    if is_maximizing_player:\n",
        "        max_eval = float(\"-inf\")\n",
        "        for col in range(7):\n",
        "            if is_valid_move(board, col):\n",
        "                new_board = make_move(board, col, \"O\")\n",
        "                eval = minimax(new_board, depth - 1, False)\n",
        "                max_eval = max(max_eval, eval)\n",
        "        return max_eval\n",
        "    else:\n",
        "        min_eval = float(\"inf\")\n",
        "        for col in range(7):\n",
        "            if is_valid_move(board, col):\n",
        "                new_board = make_move(board, col, \"X\")\n",
        "                eval = minimax(new_board, depth - 1, True)\n",
        "                min_eval = min(min_eval, eval)\n",
        "        return min_eval\n",
        "\n"
      ]
    },
    {
      "cell_type": "code",
      "execution_count": null,
      "metadata": {
        "id": "ZB11GVKZgoSw"
      },
      "outputs": [],
      "source": [
        "# Function to check if a move is valid\n",
        "def is_valid_move(board, col):\n",
        "    return any(board[row][col] == \" \" for row in range(6))\n",
        "\n",
        "# Function to make a move\n",
        "def make_move(board, col, player):\n",
        "    for row in range(5, -1, -1):\n",
        "        if board[row][col] == \" \":\n",
        "            board[row][col] = player\n",
        "            break\n",
        "    return board\n"
      ]
    },
    {
      "cell_type": "code",
      "execution_count": null,
      "metadata": {
        "colab": {
          "base_uri": "https://localhost:8080/"
        },
        "id": "A557MEhtgseV",
        "outputId": "c61d270c-e676-4705-83e6-89ae95d8b699"
      },
      "outputs": [
        {
          "output_type": "stream",
          "name": "stdout",
          "text": [
            " | | | | | | \n",
            " | | | | | | \n",
            " | | | | | | \n",
            " | | | | | | \n",
            " | | | | | | \n",
            " | | | | | | \n",
            "+-+-+-+-+-+-+\n",
            " 1 2 3 4 5 6 7\n",
            "Enter your move (1-7): 7\n",
            " | | | | | | \n",
            " | | | | | | \n",
            " | | | | | | \n",
            " | | | | | | \n",
            " | | | | | | \n",
            "O| | | | | |X\n",
            "+-+-+-+-+-+-+\n",
            " 1 2 3 4 5 6 7\n",
            "Enter your move (1-7): 6\n",
            " | | | | | | \n",
            " | | | | | | \n",
            " | | | | | | \n",
            " | | | | | | \n",
            "O| | | | | | \n",
            "O| | | | |X|X\n",
            "+-+-+-+-+-+-+\n",
            " 1 2 3 4 5 6 7\n",
            "Enter your move (1-7): 5\n",
            " | | | | | | \n",
            " | | | | | | \n",
            " | | | | | | \n",
            "O| | | | | | \n",
            "O| | | | | | \n",
            "O| | | |X|X|X\n",
            "+-+-+-+-+-+-+\n",
            " 1 2 3 4 5 6 7\n",
            "Enter your move (1-7): 4\n",
            " | | | | | | \n",
            " | | | | | | \n",
            " | | | | | | \n",
            "O| | | | | | \n",
            "O| | | | | | \n",
            "O| | |X|X|X|X\n",
            "+-+-+-+-+-+-+\n",
            " 1 2 3 4 5 6 7\n",
            "You win!\n",
            " | | | | | | \n",
            " | | | | | | \n",
            " | | | | | | \n",
            "O| | | | | | \n",
            "O| | | | | | \n",
            "O| | |X|X|X|X\n",
            "+-+-+-+-+-+-+\n",
            " 1 2 3 4 5 6 7\n",
            "Game over.\n"
          ]
        }
      ],
      "source": [
        "\n",
        "# Main game loop\n",
        "def main():\n",
        "    board = np.array([[\" \" for _ in range(7)] for _ in range(6)])\n",
        "\n",
        "    while not check_win(board, \"O\") and not check_win(board, \"X\") and not is_board_full(board):\n",
        "        display_board(board)\n",
        "\n",
        "        # User's move\n",
        "        user_col = int(input(\"Enter your move (1-7): \")) - 1\n",
        "        while not (0 <= user_col < 7) or not is_valid_move(board, user_col):\n",
        "            print(\"Invalid move. Try again.\")\n",
        "            user_col = int(input(\"Enter your move (1-7): \")) - 1\n",
        "\n",
        "        board = make_move(board, user_col, \"X\")\n",
        "\n",
        "        if check_win(board, \"X\"):\n",
        "            display_board(board)\n",
        "            print(\"You win!\")\n",
        "            break\n",
        "\n",
        "        if is_board_full(board):\n",
        "            display_board(board)\n",
        "            print(\"It's a tie!\")\n",
        "            break\n",
        "\n",
        "        # Computer's move\n",
        "        best_score = float(\"-inf\")\n",
        "        best_col = 0\n",
        "        for col in range(7):\n",
        "            if is_valid_move(board, col):\n",
        "                new_board = make_move(board.copy(), col, \"O\")\n",
        "                score = minimax(new_board, 4, False)  # Depth-limiting to 4\n",
        "                if score > best_score:\n",
        "                    best_score = score\n",
        "                    best_col = col\n",
        "\n",
        "        board = make_move(board, best_col, \"O\")\n",
        "\n",
        "        if check_win(board, \"O\"):\n",
        "            display_board(board)\n",
        "            print(\"Computer wins!\")\n",
        "            break\n",
        "\n",
        "    display_board(board)\n",
        "    print(\"Game over.\")\n",
        "\n",
        "if __name__ == \"__main__\":\n",
        "    main()"
      ]
    }
  ],
  "metadata": {
    "colab": {
      "provenance": []
    },
    "kernelspec": {
      "display_name": "Python 3",
      "name": "python3"
    },
    "language_info": {
      "name": "python"
    }
  },
  "nbformat": 4,
  "nbformat_minor": 0
}