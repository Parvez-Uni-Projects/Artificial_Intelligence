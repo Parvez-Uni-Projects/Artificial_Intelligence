{
  "nbformat": 4,
  "nbformat_minor": 0,
  "metadata": {
    "colab": {
      "provenance": []
    },
    "kernelspec": {
      "name": "python3",
      "display_name": "Python 3"
    },
    "language_info": {
      "name": "python"
    }
  },
  "cells": [
    {
      "cell_type": "code",
      "execution_count": null,
      "metadata": {
        "id": "VlMhzmVowZ4j"
      },
      "outputs": [],
      "source": [
        "from queue import PriorityQueue"
      ]
    },
    {
      "cell_type": "code",
      "source": [],
      "metadata": {
        "id": "BwTtbwjF63Hg"
      },
      "execution_count": null,
      "outputs": []
    },
    {
      "cell_type": "code",
      "source": [
        "graph = {\n",
        "    'A': [('B', 5), ('C', 7)],\n",
        "    'B': [('D', 5)],\n",
        "    'C': [('D', 4)],\n",
        "    'D': [('G', 1)],\n",
        "    'E': [('H', 7)],\n",
        "    'F': [('I', 5)],\n",
        "    'G': [],\n",
        "    'H': [],\n",
        "    'I': [],\n",
        "}"
      ],
      "metadata": {
        "id": "sqcAc7kmxFwg"
      },
      "execution_count": null,
      "outputs": []
    },
    {
      "cell_type": "code",
      "source": [
        "def print_graph(graph):\n",
        "    for node in graph:\n",
        "        connections = graph[node]\n",
        "        connections_str = ', '.join([f\"{neighbor} ({cost})\" for neighbor, cost in connections])\n",
        "        print(f\"{node}: {connections_str}\")"
      ],
      "metadata": {
        "id": "MhkfRaxD6cQf"
      },
      "execution_count": null,
      "outputs": []
    },
    {
      "cell_type": "code",
      "source": [
        "print_graph(graph)"
      ],
      "metadata": {
        "colab": {
          "base_uri": "https://localhost:8080/"
        },
        "id": "I_DnLnM96ehG",
        "outputId": "81c21eec-ade3-437e-ffbb-78799b732a33"
      },
      "execution_count": null,
      "outputs": [
        {
          "output_type": "stream",
          "name": "stdout",
          "text": [
            "A: B (5), C (7)\n",
            "B: D (5)\n",
            "C: D (6)\n",
            "D: G (1)\n",
            "E: H (7)\n",
            "F: I (5)\n",
            "G: \n",
            "H: \n",
            "I: \n"
          ]
        }
      ]
    },
    {
      "cell_type": "code",
      "source": [
        "def best_first_search(graph, start, goal):\n",
        "    priority_queue = PriorityQueue()\n",
        "    priority_queue.put((0, start))\n",
        "    visited = set()\n",
        "\n",
        "    while not priority_queue.empty():\n",
        "        current_node = priority_queue.get()[1]\n",
        "\n",
        "        if current_node == goal:\n",
        "            return True\n",
        "        visited.add(current_node)\n",
        "\n",
        "        for neighbour, priority in graph [current_node]:\n",
        "            if neighbour not in visited:\n",
        "                priority_queue.put((priority, neighbour))\n",
        "\n",
        "    return False"
      ],
      "metadata": {
        "id": "80wDAdl-xxg-"
      },
      "execution_count": null,
      "outputs": []
    },
    {
      "cell_type": "code",
      "source": [
        "start_node = 'A'\n",
        "goal_node = 'I'\n",
        "\n",
        "if best_first_search (graph, start_node, goal_node):\n",
        "    print(\"Goal node\", goal_node, \"is reachable from the start node\", start_node)\n",
        "else:\n",
        "    print(\"Goal node\", goal_node, \"is not reachable from the start node\", start_node)"
      ],
      "metadata": {
        "colab": {
          "base_uri": "https://localhost:8080/"
        },
        "id": "S4ngPIT1y6se",
        "outputId": "f1f4273d-13ca-4076-ed01-270841308bcd"
      },
      "execution_count": null,
      "outputs": [
        {
          "output_type": "stream",
          "name": "stdout",
          "text": [
            "Goal node I is not reachable from the start node A\n"
          ]
        }
      ]
    },
    {
      "cell_type": "code",
      "source": [
        "from queue import PriorityQueue\n",
        "v = 14\n",
        "\n",
        "\n",
        "graph = []\n",
        "\n",
        "for i in range(v):\n",
        "    graph.append([])\n",
        "\n",
        "\n",
        "def best_first_search(actual_Src, target, n):\n",
        "    visited = [False] * n\n",
        "    pq = PriorityQueue()\n",
        "    pq.put((0, actual_Src))\n",
        "    visited[actual_Src] = True\n",
        "\n",
        "    while pq.empty() == False:\n",
        "        u = pq.get()[1]\n",
        "        # Displaying the path having lowest cost\n",
        "        print(u, end=\" \")\n",
        "        if u == target:\n",
        "            break\n",
        "\n",
        "        for v, c in graph[u]:\n",
        "            if visited[v] == False:\n",
        "                visited[v] = True\n",
        "                pq.put((c, v))\n",
        "    print()\n",
        "\n",
        "\n",
        "\n",
        "def addedge(x, y, cost):\n",
        "    graph[x].append((y, cost))\n",
        "    graph[y].append((x, cost))\n",
        "\n",
        "\n",
        "addedge(0, 1, 3)\n",
        "addedge(0, 2, 6)\n",
        "addedge(0, 3, 5)\n",
        "addedge(1, 4, 9)\n",
        "addedge(1, 5, 8)\n",
        "addedge(2, 6, 12)\n",
        "addedge(2, 7, 14)\n",
        "addedge(3, 8, 7)\n",
        "addedge(8, 9, 5)\n",
        "addedge(8, 10, 6)\n",
        "addedge(9, 11, 1)\n",
        "addedge(9, 12, 10)\n",
        "addedge(9, 13, 2)\n",
        "\n",
        "source = 0\n",
        "target = 9\n",
        "best_first_search(source, target, v)"
      ],
      "metadata": {
        "colab": {
          "base_uri": "https://localhost:8080/"
        },
        "id": "hqigUQbSzLf-",
        "outputId": "acef4b62-a7ab-48b9-f3fe-48ad66f3f9b6"
      },
      "execution_count": null,
      "outputs": [
        {
          "output_type": "stream",
          "name": "stdout",
          "text": [
            "0 1 3 2 8 9 \n"
          ]
        }
      ]
    },
    {
      "cell_type": "code",
      "source": [
        "from queue import PriorityQueue\n",
        "\n",
        "v = 14\n",
        "\n",
        "graph = []\n",
        "\n",
        "for i in range(v):\n",
        "    graph.append([])\n",
        "\n",
        "\n",
        "def heuristic(node, target):\n",
        "    # Implement your heuristic function here\n",
        "    # This function should estimate the cost from 'node' to 'target'\n",
        "    # The heuristic should be admissible (never overestimate the cost)\n",
        "    # Return the estimated cost (heuristic value)\n",
        "    heuristic_values = {\n",
        "        0: 8,\n",
        "        1: 6,\n",
        "        2: 10,\n",
        "        3: 4,\n",
        "        4: 3,\n",
        "        5: 7,\n",
        "        6: 9,\n",
        "        7: 2,\n",
        "        8: 5,\n",
        "        9: 2,\n",
        "        10: 4,\n",
        "        11: 1,\n",
        "        12: 5,\n",
        "        13: 3\n",
        "    }\n",
        "\n",
        "    return heuristic_values[node]\n",
        "\n",
        "\n",
        "def astar_search(actual_Src, target, n):\n",
        "    visited = [False] * n\n",
        "    pq = PriorityQueue()\n",
        "    pq.put((0, actual_Src))\n",
        "    visited[actual_Src] = True\n",
        "\n",
        "    while pq.empty() == False:\n",
        "        u = pq.get()[1]\n",
        "        print(u, end=\" -> \")\n",
        "        if u == target:\n",
        "            break\n",
        "\n",
        "        for v, c in graph[u]:\n",
        "            if visited[v] == False:\n",
        "                visited[v] = True\n",
        "                g = c\n",
        "                h = heuristic(v, target)\n",
        "                f = g + h\n",
        "                pq.put((f, v))\n",
        "\n",
        "    print()\n",
        "\n",
        "\n",
        "def addedge(x, y, cost):\n",
        "    graph[x].append((y, cost))\n",
        "    graph[y].append((x, cost))\n",
        "\n",
        "\n",
        "addedge(0, 1, 3)\n",
        "addedge(0, 2, 6)\n",
        "addedge(0, 3, 5)\n",
        "addedge(1, 4, 9)\n",
        "addedge(1, 5, 8)\n",
        "addedge(2, 6, 12)\n",
        "addedge(2, 7, 14)\n",
        "addedge(3, 8, 7)\n",
        "addedge(8, 9, 5)\n",
        "addedge(8, 10, 6)\n",
        "addedge(9, 11, 1)\n",
        "addedge(9, 12, 10)\n",
        "addedge(9, 13, 2)\n",
        "\n",
        "source = 0\n",
        "target = 9\n",
        "astar_search(source, target, v)\n"
      ],
      "metadata": {
        "colab": {
          "base_uri": "https://localhost:8080/"
        },
        "id": "QTgmsr5h4j-Q",
        "outputId": "f18b1e1e-b822-4512-c6b4-a553ec455e26"
      },
      "execution_count": null,
      "outputs": [
        {
          "output_type": "stream",
          "name": "stdout",
          "text": [
            "0 -> 1 -> 3 -> 4 -> 8 -> 9 -> \n"
          ]
        }
      ]
    },
    {
      "cell_type": "code",
      "source": [],
      "metadata": {
        "id": "g2V9Epe-5bFO"
      },
      "execution_count": null,
      "outputs": []
    }
  ]
}