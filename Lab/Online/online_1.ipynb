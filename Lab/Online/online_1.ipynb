{
  "cells": [
    {
      "cell_type": "code",
      "execution_count": null,
      "metadata": {
        "id": "dQXXZWVV68BI"
      },
      "outputs": [],
      "source": [
        "graph  ={\n",
        "\n",
        "    'A' : [('B' ,5) , ('C',7)],\n",
        "    'B' : [('D',5) , ('A',5)],\n",
        "    'C' : [('A',7) , ('D',6),('E',4)],\n",
        "    'D' : [('C',6) , ('B',5) , ('F',8)],\n",
        "    'E' : [('C',4) , ('F',4) ],\n",
        "    'F' : [('D',8) , ('E',4) ]\n",
        "\n",
        "}\n",
        "\n",
        "# print(graph)"
      ]
    },
    {
      "cell_type": "code",
      "execution_count": null,
      "metadata": {
        "id": "RaeK5z2O9EiW"
      },
      "outputs": [],
      "source": [
        "# This is the heuristic value to F\n",
        "heuristic ={\n",
        "    'A' : 15,\n",
        "    'B' : 11,\n",
        "    'C' :13,\n",
        "    'D' : 8,\n",
        "    'E' : 4,\n",
        "    'F' : 0\n",
        "}\n",
        "# print(heuristic)"
      ]
    },
    {
      "cell_type": "code",
      "execution_count": null,
      "metadata": {
        "id": "j-fReRzF-EzV"
      },
      "outputs": [],
      "source": [
        "queue =[('A',0)]\n",
        "visited =[]\n",
        "goal = 0\n",
        "\n"
      ]
    },
    {
      "cell_type": "code",
      "execution_count": null,
      "metadata": {
        "id": "w1-xVgmf6_s6"
      },
      "outputs": [],
      "source": [
        "def nextNode():\n",
        "  minValue = 10000\n",
        "  minNode = \"-1\"\n",
        "\n",
        "  for node in (queue):\n",
        "    nodeMValue = heuristic [node[0]]\n",
        "\n",
        "\n",
        "    if (nodeMValue< minValue):\n",
        "\n",
        "        minValue = nodeMValue\n",
        "        minNode = node\n",
        "\n",
        "\n",
        "  if (minNode != \"-1\"):\n",
        "    queue.remove(minNode)\n",
        "  return minNode"
      ]
    },
    {
      "cell_type": "code",
      "source": [
        "print(nextNode())"
      ],
      "metadata": {
        "colab": {
          "base_uri": "https://localhost:8080/"
        },
        "id": "zDB681gjiY9_",
        "outputId": "03df58bd-9ace-4f65-8fee-9497e83911c9"
      },
      "execution_count": null,
      "outputs": [
        {
          "output_type": "stream",
          "name": "stdout",
          "text": [
            "('A', 0)\n"
          ]
        }
      ]
    },
    {
      "cell_type": "markdown",
      "metadata": {
        "id": "V57MPSJ4Jtt3"
      },
      "source": [
        "while goal != 1\n",
        "    p = nextNode()\n",
        "    visited.append(p(0)\n",
        "    print(p)\n",
        "    if (p[0] == 'F'):\n",
        "      print(p[o])\n",
        "      break\n",
        "    else\n",
        "      enter the univisited node in the queue\n",
        "      for i in graph p[0]\n",
        "        if i not in visited\n",
        "            queue.append(i)"
      ]
    },
    {
      "cell_type": "code",
      "execution_count": null,
      "metadata": {
        "id": "fSnb193MKjfP"
      },
      "outputs": [],
      "source": [
        "def bestFirstSearch():\n",
        "  while goal != 1 :\n",
        "    p = nextNode()\n",
        "    visited.append(p[0])\n",
        "    print(p[0])\n",
        "    if(p[0] == 'F'):\n",
        "      break\n",
        "    else:\n",
        "      #print(p[0])\n",
        "      for i in graph[p[0]]:\n",
        "        #print(i)\n",
        "        if(i[0] not in visited):\n",
        "          queue.append(i)"
      ]
    },
    {
      "cell_type": "code",
      "source": [
        "def aStarSearch():\n",
        "  while goal != 1 :\n",
        "    p = nextNode()\n",
        "    visited.append(p[0])\n",
        "    print(p[0])\n",
        "    if(p[0] == 'F'):\n",
        "      break\n",
        "    else:\n",
        "      #print(p[0])\n",
        "      for i in graph[p[0]]:\n",
        "        #print(i)\n",
        "        if(i[0] not in visited):\n",
        "          queue.append(i)"
      ],
      "metadata": {
        "id": "PAyHMOmdmrrn"
      },
      "execution_count": null,
      "outputs": []
    },
    {
      "cell_type": "code",
      "execution_count": null,
      "metadata": {
        "colab": {
          "base_uri": "https://localhost:8080/",
          "height": 324
        },
        "id": "nCOgyfjVZKaX",
        "outputId": "98c78bcb-57c3-4f7c-c8d3-d8105092f085"
      },
      "outputs": [
        {
          "output_type": "stream",
          "name": "stdout",
          "text": [
            "-\n"
          ]
        },
        {
          "output_type": "error",
          "ename": "KeyError",
          "evalue": "ignored",
          "traceback": [
            "\u001b[0;31m---------------------------------------------------------------------------\u001b[0m",
            "\u001b[0;31mKeyError\u001b[0m                                  Traceback (most recent call last)",
            "\u001b[0;32m<ipython-input-8-56c7a0bc82d4>\u001b[0m in \u001b[0;36m<cell line: 2>\u001b[0;34m()\u001b[0m\n\u001b[1;32m      1\u001b[0m \u001b[0;31m#bestFirstSearch()\u001b[0m\u001b[0;34m\u001b[0m\u001b[0;34m\u001b[0m\u001b[0m\n\u001b[0;32m----> 2\u001b[0;31m \u001b[0maStarSearch\u001b[0m\u001b[0;34m(\u001b[0m\u001b[0;34m)\u001b[0m\u001b[0;34m\u001b[0m\u001b[0;34m\u001b[0m\u001b[0m\n\u001b[0m",
            "\u001b[0;32m<ipython-input-7-047fe85c5b9d>\u001b[0m in \u001b[0;36maStarSearch\u001b[0;34m()\u001b[0m\n\u001b[1;32m      8\u001b[0m     \u001b[0;32melse\u001b[0m\u001b[0;34m:\u001b[0m\u001b[0;34m\u001b[0m\u001b[0;34m\u001b[0m\u001b[0m\n\u001b[1;32m      9\u001b[0m       \u001b[0;31m#print(p[0])\u001b[0m\u001b[0;34m\u001b[0m\u001b[0;34m\u001b[0m\u001b[0m\n\u001b[0;32m---> 10\u001b[0;31m       \u001b[0;32mfor\u001b[0m \u001b[0mi\u001b[0m \u001b[0;32min\u001b[0m \u001b[0mgraph\u001b[0m\u001b[0;34m[\u001b[0m\u001b[0mp\u001b[0m\u001b[0;34m[\u001b[0m\u001b[0;36m0\u001b[0m\u001b[0;34m]\u001b[0m\u001b[0;34m]\u001b[0m\u001b[0;34m:\u001b[0m\u001b[0;34m\u001b[0m\u001b[0;34m\u001b[0m\u001b[0m\n\u001b[0m\u001b[1;32m     11\u001b[0m         \u001b[0;31m#print(i)\u001b[0m\u001b[0;34m\u001b[0m\u001b[0;34m\u001b[0m\u001b[0m\n\u001b[1;32m     12\u001b[0m         \u001b[0;32mif\u001b[0m\u001b[0;34m(\u001b[0m\u001b[0mi\u001b[0m\u001b[0;34m[\u001b[0m\u001b[0;36m0\u001b[0m\u001b[0;34m]\u001b[0m \u001b[0;32mnot\u001b[0m \u001b[0;32min\u001b[0m \u001b[0mvisited\u001b[0m\u001b[0;34m)\u001b[0m\u001b[0;34m:\u001b[0m\u001b[0;34m\u001b[0m\u001b[0;34m\u001b[0m\u001b[0m\n",
            "\u001b[0;31mKeyError\u001b[0m: '-'"
          ]
        }
      ],
      "source": [
        "#bestFirstSearch()\n",
        "aStarSearch()"
      ]
    }
  ],
  "metadata": {
    "colab": {
      "provenance": []
    },
    "kernelspec": {
      "display_name": "Python 3",
      "name": "python3"
    },
    "language_info": {
      "name": "python"
    }
  },
  "nbformat": 4,
  "nbformat_minor": 0
}