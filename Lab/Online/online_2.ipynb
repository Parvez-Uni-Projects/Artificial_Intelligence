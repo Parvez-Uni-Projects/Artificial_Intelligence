{
  "nbformat": 4,
  "nbformat_minor": 0,
  "metadata": {
    "colab": {
      "provenance": []
    },
    "kernelspec": {
      "name": "python3",
      "display_name": "Python 3"
    },
    "language_info": {
      "name": "python"
    }
  },
  "cells": [
    {
      "cell_type": "code",
      "source": [
        "def printState (t):\n",
        " for i in range(4):\n",
        "    for j in range(4):\n",
        "        print(t[i][j], end = \" \")\n",
        "    print()"
      ],
      "metadata": {
        "id": "juMtcTEX5sjO"
      },
      "execution_count": null,
      "outputs": []
    },
    {
      "cell_type": "code",
      "source": [
        "def countForCurrent(i, j ,temp):\n",
        "  row = i\n",
        "  col = j\n",
        "  count = 0\n",
        "  for i in range(4):\n",
        "    for j in range(4):\n",
        "      if  temp[i][j] == 1 :\n",
        "        if i == row and j == col :\n",
        "          continue\n",
        "        if i == row or j == col or abs ((abs(i - row) == abs(j - col))):\n",
        "            count+=1\n",
        "  return count\n",
        "\n",
        "\n"
      ],
      "metadata": {
        "id": "BrmNx6xY7Wfv"
      },
      "execution_count": null,
      "outputs": []
    },
    {
      "cell_type": "code",
      "source": [
        "def checkAttackingPair(temp):\n",
        "  total = 0\n",
        "  for i in range(4):\n",
        "      for j in range(4):\n",
        "        if temp[i][j] == 1:\n",
        "          total += countForCurrent(i , j,temp)\n",
        "          #print(i , j , \" TOTAL = \" , total)\n",
        "  return total/2"
      ],
      "metadata": {
        "id": "3-1HqYSF6JIO"
      },
      "execution_count": null,
      "outputs": []
    },
    {
      "cell_type": "code",
      "source": [
        "print(checkAttackingPair(A))"
      ],
      "metadata": {
        "colab": {
          "base_uri": "https://localhost:8080/"
        },
        "id": "NbomkGd66RMP",
        "outputId": "4f4adbb5-9134-4520-e19c-b68c9b5fd2e4"
      },
      "execution_count": null,
      "outputs": [
        {
          "output_type": "stream",
          "name": "stdout",
          "text": [
            "2.0\n"
          ]
        }
      ]
    },
    {
      "cell_type": "code",
      "source": [
        "def generate2D(d1):\n",
        "  t =([ 0, 0, 0 , 0],\n",
        "      [ 0, 0, 0 , 0],\n",
        "      [ 0, 0, 0 , 0],\n",
        "      [ 0, 0, 0 , 0])\n",
        "  for i in range (4):\n",
        "    t[d1[i]][i] = 1\n",
        "  return t"
      ],
      "metadata": {
        "id": "r2v1CqjkD9xA"
      },
      "execution_count": null,
      "outputs": []
    },
    {
      "cell_type": "code",
      "source": [
        "# [1, 3, 0, 2]\n",
        "B =(  [ 0, 0, 1 , 0],\n",
        "      [ 1, 0, 0 , 0],\n",
        "      [ 0, 0, 0 , 1],\n",
        "      [ 0, 1, 0 , 0])\n",
        "\n",
        "print(checkAttackingPair(B))"
      ],
      "metadata": {
        "colab": {
          "base_uri": "https://localhost:8080/"
        },
        "id": "KckgScQCDT2-",
        "outputId": "7e23a886-dd96-4787-f256-57623fcbc1e1"
      },
      "execution_count": null,
      "outputs": [
        {
          "output_type": "stream",
          "name": "stdout",
          "text": [
            "0.0\n"
          ]
        }
      ]
    },
    {
      "cell_type": "code",
      "source": [
        "# [2, 0, 3, 1]\n",
        "C  =( [ 0, 1, 0 , 0 ],\n",
        "      [ 0, 0, 0 , 1],\n",
        "      [ 1, 0, 0, 0],\n",
        "      [ 0, 0, 1 , 0])\n",
        "print(checkAttackingPair(C))"
      ],
      "metadata": {
        "colab": {
          "base_uri": "https://localhost:8080/"
        },
        "id": "DPoVtpdWDljl",
        "outputId": "8919e733-4689-4e16-d814-f5e4d9a52354"
      },
      "execution_count": null,
      "outputs": [
        {
          "output_type": "stream",
          "name": "stdout",
          "text": [
            "0.0\n"
          ]
        }
      ]
    },
    {
      "cell_type": "code",
      "source": [
        "d1 = [1, 1, 2, 1]\n",
        "t = generate2D(d1)\n",
        "printState(t)"
      ],
      "metadata": {
        "colab": {
          "base_uri": "https://localhost:8080/"
        },
        "id": "dO9kfwhNGDQ-",
        "outputId": "769231fb-3291-4115-cf3a-face365c909a"
      },
      "execution_count": null,
      "outputs": [
        {
          "output_type": "stream",
          "name": "stdout",
          "text": [
            "0 0 0 0 \n",
            "1 1 0 1 \n",
            "0 0 1 0 \n",
            "0 0 0 0 \n"
          ]
        }
      ]
    },
    {
      "cell_type": "code",
      "source": [
        "import random\n",
        "def randomNumGenerator():\n",
        "  inputSet = []\n",
        "  for i in range(4):\n",
        "          inputSet.append(random.randrange(0,4));\n",
        "  return inputSet"
      ],
      "metadata": {
        "id": "vEpGRfNmHMf2"
      },
      "execution_count": null,
      "outputs": []
    },
    {
      "cell_type": "code",
      "source": [
        "for i in range (10):\n",
        "    inputSet = randomNumGenerator()\n",
        "    print(inputSet)\n",
        "    A = generate2D(inputSet)\n",
        "    #printState(A)\n",
        "    print( \"ATTACKING PAIR \" , checkAttackingPair(A))\n"
      ],
      "metadata": {
        "colab": {
          "base_uri": "https://localhost:8080/"
        },
        "id": "hOf-N08IHbLX",
        "outputId": "529f632f-45e8-45f7-9305-1ac80c9a33fb"
      },
      "execution_count": null,
      "outputs": [
        {
          "output_type": "stream",
          "name": "stdout",
          "text": [
            "[3, 3, 3, 0]\n",
            "ATTACKING PAIR  4.0\n",
            "[1, 0, 0, 0]\n",
            "ATTACKING PAIR  4.0\n",
            "[0, 1, 1, 0]\n",
            "ATTACKING PAIR  4.0\n",
            "[2, 1, 1, 1]\n",
            "ATTACKING PAIR  4.0\n",
            "[2, 0, 2, 3]\n",
            "ATTACKING PAIR  2.0\n",
            "[2, 1, 3, 1]\n",
            "ATTACKING PAIR  2.0\n",
            "[0, 2, 0, 0]\n",
            "ATTACKING PAIR  4.0\n",
            "[1, 2, 3, 3]\n",
            "ATTACKING PAIR  4.0\n",
            "[3, 0, 2, 3]\n",
            "ATTACKING PAIR  2.0\n",
            "[0, 1, 1, 2]\n",
            "ATTACKING PAIR  3.0\n"
          ]
        }
      ]
    }
  ]
}