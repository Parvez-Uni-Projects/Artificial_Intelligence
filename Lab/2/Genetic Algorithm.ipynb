{
  "nbformat": 4,
  "nbformat_minor": 0,
  "metadata": {
    "colab": {
      "provenance": []
    },
    "kernelspec": {
      "name": "python3",
      "display_name": "Python 3"
    },
    "language_info": {
      "name": "python"
    }
  },
  "cells": [
    {
      "cell_type": "code",
      "execution_count": null,
      "metadata": {
        "id": "_-3fBwG7-xDa"
      },
      "outputs": [],
      "source": [
        "import numpy as np\n",
        "import random\n",
        "\n",
        "inputSet = []\n",
        "\n",
        "def randomNumGenerator():\n",
        "    for i in range(0, 15):\n",
        "        a = []\n",
        "        for j in range(0, 8):\n",
        "            a.append(random.randrange(0,7));\n",
        "        inputSet.append(a)\n",
        "\n",
        "def prepareForfitnessCalculation():\n",
        "    for i in range(0,15):\n",
        "        b = []\n",
        "        for j in range(0,8):\n",
        "            tempLst = []\n",
        "            for k in range(0,1):\n",
        "                tempLst.append(inputSet[i][j])\n",
        "                tempLst.append(j)\n",
        "            b.append(tempLst)\n",
        "        fitnessCalculation(sorted(b),i)\n",
        "\n",
        "def fitnessCalculation(positionList,k):\n",
        "    h = 0\n",
        "    for i in range(0,8):\n",
        "        for j in range(i+1,8):\n",
        "            t1 = abs(positionList[i][0] - positionList[j][0])\n",
        "            t2 = abs(positionList[i][1] - positionList[j][1])\n",
        "            if positionList[i][0] == positionList[j][0]:\n",
        "                h = h+1\n",
        "            elif t1 == t2:\n",
        "                h = h+1\n",
        "    thisdict[k] = h\n",
        "\n",
        "def getFirstTwoKeys(dictionary):\n",
        "    n = 0\n",
        "    Index = []\n",
        "    for state in dictionary:\n",
        "        Index.append(state)\n",
        "        n = n+1\n",
        "        if n == 2:\n",
        "            break\n",
        "    return Index\n",
        "\n",
        "\n",
        "inputSet = [ [2, 4, 7, 4, 8, 5, 5, 2], [3, 2, 7, 5, 2, 4, 1, 1] , [2, 4, 4, 1, 5, 1, 2, 4] , [3, 2, 5, 4, 3, 2, 1, 3] , [3, 7, 0, 2, 5, 1, 6, 4] , [1, 0, 1, 0, 7, 4, 2, 6] , [1, 7, 1, 1, 6, 4, 4, 0] ,[0, 7, 3, 6, 0, 6, 2, 6], [0, 3, 5, 1, 4, 3, 2, 2], [0, 7, 2, 3, 0, 1, 2, 5], [5, 1, 1, 3, 3, 4, 5, 3], [6, 5, 0, 5, 3, 3, 0, 5], [0, 2, 2, 3, 5, 1, 0, 1], [4, 2, 7, 3, 4, 4, 7, 3], [2, 3, 6, 3, 0, 5, 2, 5]]\n",
        "#randomNumGenerator()\n",
        "#inputSet = [ [6, 3, 7, 0, 5, 3, 1, 4], [3, 6, 0, 2, 7, 7, 1, 1] , [1, 5, 7, 2, 6, 1, 3, 5] , [6, 3, 6, 5, 2, 4, 6, 7] , [2, 1, 3, 3, 7, 0, 3, 3] , [1, 0, 1, 0, 7, 4, 2, 6] , [1, 7, 1, 1, 6, 4, 4, 0] ,[0, 7, 3, 6, 0, 6, 2, 6], [0, 3, 5, 1, 4, 3, 2, 2], [0, 7, 2, 3, 0, 1, 2, 5], [5, 1, 1, 3, 3, 4, 5, 3], [6, 5, 0, 5, 3, 3, 0, 5], [0, 2, 2, 3, 5, 1, 0, 1], [4, 2, 7, 3, 4, 4, 7, 3], [2, 3, 6, 3, 0, 5, 2, 5]]\n",
        "for d in range(0,2):\n",
        "    thisdict = {}\n",
        "    prepareForfitnessCalculation()\n",
        "    print(\"\\nThe input set at first:\")\n",
        "    print(inputSet)\n",
        "    print(\"\\nThe entry numbers vs fitness scores:\")\n",
        "    print(thisdict)\n",
        "    sort_dict = dict(sorted(thisdict.items(), key=lambda item: item[1]))\n",
        "    sort_dict_rev = dict(sorted(thisdict.items(), key=lambda item: item[1],reverse=True))\n",
        "    crossover()\n",
        "\n",
        "\n"
      ]
    }
  ]
}